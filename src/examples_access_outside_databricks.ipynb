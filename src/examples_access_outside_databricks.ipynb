{
 "cells": [
  {
   "cell_type": "markdown",
   "id": "c8fb7efd-36dc-4c75-a736-9f9f435290a5",
   "metadata": {
    "tags": []
   },
   "source": [
    "# Options for Accessing Data in Databricks from Outside Databricks\n",
    "\n",
    "May 08, 2024\n",
    "\n",
    "Eumar Assis, Sr. Solutions Architect\n",
    "\n",
    "Databricks"
   ]
  },
  {
   "cell_type": "markdown",
   "id": "824dec68-c306-41ca-8214-f8b9ebe24806",
   "metadata": {
    "tags": []
   },
   "source": [
    "## Databricks Connect V2\n",
    "\n",
    "Requires a Databricks compute cluster.\n",
    "\n",
    "This is my preferred approach given its simplicity. It is lightweight for developers.\n",
    "\n",
    "Works for accessing catalog/tables that are the product of a Delta Share.\n",
    "\n",
    "Note: while compute in Databricks is required, it may save compute resources in sources like SageMaker given that processing is offloaded to Databricks.\n",
    "\n",
    "https://docs.databricks.com/en/dev-tools/databricks-connect/index.html"
   ]
  },
  {
   "cell_type": "code",
   "execution_count": null,
   "id": "e6aa2b28-8880-44d3-8c74-3acf13cec173",
   "metadata": {
    "tags": []
   },
   "outputs": [],
   "source": [
    "%pip install databricks-connect"
   ]
  },
  {
   "cell_type": "code",
   "execution_count": 40,
   "id": "30fa2d36-bc93-47bb-bb03-2d4d24357a18",
   "metadata": {
    "tags": []
   },
   "outputs": [
    {
     "name": "stdout",
     "output_type": "stream",
     "text": [
      "+--------------------+---------------------+-------------+-----------+----------+-----------+\n",
      "|tpep_pickup_datetime|tpep_dropoff_datetime|trip_distance|fare_amount|pickup_zip|dropoff_zip|\n",
      "+--------------------+---------------------+-------------+-----------+----------+-----------+\n",
      "| 2016-02-14 16:52:13|  2016-02-14 17:16:04|         4.94|       19.0|     10282|      10171|\n",
      "| 2016-02-04 18:44:19|  2016-02-04 18:46:00|         0.28|        3.5|     10110|      10110|\n",
      "| 2016-02-17 17:13:57|  2016-02-17 17:17:55|          0.7|        5.0|     10103|      10023|\n",
      "| 2016-02-18 10:36:07|  2016-02-18 10:41:45|          0.8|        6.0|     10022|      10017|\n",
      "| 2016-02-22 14:14:41|  2016-02-22 14:31:52|         4.51|       17.0|     10110|      10282|\n",
      "+--------------------+---------------------+-------------+-----------+----------+-----------+\n",
      "only showing top 5 rows\n",
      "\n"
     ]
    }
   ],
   "source": [
    "from databricks.connect import DatabricksSession\n",
    "\n",
    "#spark = DatabricksSession.builder.profile(\"./profile.databrickscfg\").getOrCreate()\n",
    "\n",
    "spark = DatabricksSession.builder.remote(\n",
    "  host       = \"\",\n",
    "  token      = \"\",\n",
    "  cluster_id = \"\"\n",
    ").getOrCreate()\n",
    "\n",
    "\n",
    "df = spark.read.table(\"samples.nyctaxi.trips\")\n",
    "df.show(5)"
   ]
  },
  {
   "cell_type": "markdown",
   "id": "93f4a8d9-7829-4f9f-a347-5a640ff63bce",
   "metadata": {
    "tags": []
   },
   "source": [
    "## Databricks SDK | Table data\n",
    "\n",
    "Databricks compute cluster required.\n",
    "\n",
    "Works for accessing catalog/tables that are the product of a Delta Share.\n",
    "\n",
    "Note: while compute in Databricks is required, it may save compute resources in sources like SageMaker given that processing is offloaded to Databricks.\n",
    "\n",
    "https://databricks-sdk-py.readthedocs.io/en/latest/workspace/catalog/index.html"
   ]
  },
  {
   "cell_type": "code",
   "execution_count": null,
   "id": "15f24ba6",
   "metadata": {},
   "outputs": [],
   "source": [
    "%pip install databricks-sdk"
   ]
  },
  {
   "cell_type": "code",
   "execution_count": null,
   "id": "cda1e907-adb9-4d52-9b10-8f587861fb29",
   "metadata": {},
   "outputs": [],
   "source": [
    "import os\n",
    "\n",
    "from databricks.sdk import WorkspaceClient\n",
    "from databricks.sdk.service import compute\n",
    "\n",
    "w = WorkspaceClient()\n",
    "\n",
    "cluster_id = os.environ[\"TEST_DEFAULT_CLUSTER_ID\"]\n",
    "\n",
    "context = w.command_execution.create(cluster_id=cluster_id, language=compute.Language.PYTHON).result()\n",
    "\n",
    "text_results = w.command_execution.execute(cluster_id=cluster_id,\n",
    "                                           context_id=context.id,\n",
    "                                           language=compute.Language.PYTHON,\n",
    "                                           command=\"print(1)\")"
   ]
  },
  {
   "cell_type": "markdown",
   "id": "c374fce3-e731-4c8b-8f64-4b5514a03dec",
   "metadata": {
    "tags": []
   },
   "source": [
    "## Delta Sharing Scenario | COVID dataset\n",
    "\n",
    "https://github.com/delta-io/delta-sharing?tab=readme-ov-file#accessing-shared-data\n",
    "\n",
    "\n",
    "No Databricks compute cluster required\n",
    "\n",
    "Unity Catalog in the provider Workspace acts as the Delta Sharing Server"
   ]
  },
  {
   "cell_type": "code",
   "execution_count": null,
   "id": "292e7472-9349-4b8c-b124-130b2599f16f",
   "metadata": {
    "tags": []
   },
   "outputs": [],
   "source": [
    "%pip install delta_sharing"
   ]
  },
  {
   "cell_type": "code",
   "execution_count": 7,
   "id": "fbf3684a-6bbc-493f-a0c1-8f3a5bd8c2d2",
   "metadata": {
    "tags": []
   },
   "outputs": [
    {
     "name": "stdout",
     "output_type": "stream",
     "text": [
      "########### All Available Tables #############\n",
      "[Table(name='COVID_19_NYT', share='delta_sharing', schema='default'), Table(name='boston-housing', share='delta_sharing', schema='default'), Table(name='flight-asa_2008', share='delta_sharing', schema='default'), Table(name='lending_club', share='delta_sharing', schema='default'), Table(name='nyctaxi_2019', share='delta_sharing', schema='default'), Table(name='nyctaxi_2019_part', share='delta_sharing', schema='default'), Table(name='owid-covid-data', share='delta_sharing', schema='default')]\n",
      "########### Loading 10 rows from delta_sharing.default.owid-covid-data as a Pandas DataFrame #############\n",
      "########### Show the fetched 10 rows #############\n",
      "  iso_code continent     location        date  total_cases  new_cases  \\\n",
      "0      AFG      Asia  Afghanistan  2020-02-24          1.0        1.0   \n",
      "1      AFG      Asia  Afghanistan  2020-02-25          1.0        0.0   \n",
      "2      AFG      Asia  Afghanistan  2020-02-26          1.0        0.0   \n",
      "3      AFG      Asia  Afghanistan  2020-02-27          1.0        0.0   \n",
      "4      AFG      Asia  Afghanistan  2020-02-28          1.0        0.0   \n",
      "5      AFG      Asia  Afghanistan  2020-02-29          1.0        0.0   \n",
      "6      AFG      Asia  Afghanistan  2020-03-01          1.0        0.0   \n",
      "7      AFG      Asia  Afghanistan  2020-03-02          1.0        0.0   \n",
      "8      AFG      Asia  Afghanistan  2020-03-03          2.0        1.0   \n",
      "9      AFG      Asia  Afghanistan  2020-03-04          4.0        2.0   \n",
      "\n",
      "   new_cases_smoothed  total_deaths  new_deaths  new_deaths_smoothed  ...  \\\n",
      "0                 NaN           NaN         NaN                  NaN  ...   \n",
      "1                 NaN           NaN         NaN                  NaN  ...   \n",
      "2                 NaN           NaN         NaN                  NaN  ...   \n",
      "3                 NaN           NaN         NaN                  NaN  ...   \n",
      "4                 NaN           NaN         NaN                  NaN  ...   \n",
      "5               0.143           NaN         NaN                  0.0  ...   \n",
      "6               0.143           NaN         NaN                  0.0  ...   \n",
      "7               0.000           NaN         NaN                  0.0  ...   \n",
      "8               0.143           NaN         NaN                  0.0  ...   \n",
      "9               0.429           NaN         NaN                  0.0  ...   \n",
      "\n",
      "   gdp_per_capita  extreme_poverty  cardiovasc_death_rate  \\\n",
      "0        1803.987              NaN                597.029   \n",
      "1        1803.987              NaN                597.029   \n",
      "2        1803.987              NaN                597.029   \n",
      "3        1803.987              NaN                597.029   \n",
      "4        1803.987              NaN                597.029   \n",
      "5        1803.987              NaN                597.029   \n",
      "6        1803.987              NaN                597.029   \n",
      "7        1803.987              NaN                597.029   \n",
      "8        1803.987              NaN                597.029   \n",
      "9        1803.987              NaN                597.029   \n",
      "\n",
      "   diabetes_prevalence  female_smokers  male_smokers  handwashing_facilities  \\\n",
      "0                 9.59             NaN           NaN                  37.746   \n",
      "1                 9.59             NaN           NaN                  37.746   \n",
      "2                 9.59             NaN           NaN                  37.746   \n",
      "3                 9.59             NaN           NaN                  37.746   \n",
      "4                 9.59             NaN           NaN                  37.746   \n",
      "5                 9.59             NaN           NaN                  37.746   \n",
      "6                 9.59             NaN           NaN                  37.746   \n",
      "7                 9.59             NaN           NaN                  37.746   \n",
      "8                 9.59             NaN           NaN                  37.746   \n",
      "9                 9.59             NaN           NaN                  37.746   \n",
      "\n",
      "   hospital_beds_per_thousand  life_expectancy  human_development_index  \n",
      "0                         0.5            64.83                    0.511  \n",
      "1                         0.5            64.83                    0.511  \n",
      "2                         0.5            64.83                    0.511  \n",
      "3                         0.5            64.83                    0.511  \n",
      "4                         0.5            64.83                    0.511  \n",
      "5                         0.5            64.83                    0.511  \n",
      "6                         0.5            64.83                    0.511  \n",
      "7                         0.5            64.83                    0.511  \n",
      "8                         0.5            64.83                    0.511  \n",
      "9                         0.5            64.83                    0.511  \n",
      "\n",
      "[10 rows x 59 columns]\n",
      "########### Loading delta_sharing.default.owid-covid-data as a Pandas DataFrame #############\n",
      "########### Show Data #############\n",
      "      iso_code      continent       location        date  total_cases  \\\n",
      "18723      USA  North America  United States  2020-01-22          1.0   \n",
      "18724      USA  North America  United States  2020-01-23          1.0   \n",
      "18725      USA  North America  United States  2020-01-24          2.0   \n",
      "18726      USA  North America  United States  2020-01-25          2.0   \n",
      "18727      USA  North America  United States  2020-01-26          5.0   \n",
      "18728      USA  North America  United States  2020-01-27          5.0   \n",
      "18729      USA  North America  United States  2020-01-28          5.0   \n",
      "18730      USA  North America  United States  2020-01-29          6.0   \n",
      "18731      USA  North America  United States  2020-01-30          6.0   \n",
      "18732      USA  North America  United States  2020-01-31          8.0   \n",
      "\n",
      "       new_cases  new_cases_smoothed  total_deaths  new_deaths  \\\n",
      "18723        NaN                 NaN           NaN         NaN   \n",
      "18724        0.0                 NaN           NaN         NaN   \n",
      "18725        1.0                 NaN           NaN         NaN   \n",
      "18726        0.0                 NaN           NaN         NaN   \n",
      "18727        3.0                 NaN           NaN         NaN   \n",
      "18728        0.0                 NaN           NaN         NaN   \n",
      "18729        0.0               0.571           NaN         NaN   \n",
      "18730        1.0               0.714           NaN         NaN   \n",
      "18731        0.0               0.714           NaN         NaN   \n",
      "18732        2.0               0.857           NaN         NaN   \n",
      "\n",
      "       new_deaths_smoothed  ...  gdp_per_capita  extreme_poverty  \\\n",
      "18723                  NaN  ...       54225.446              1.2   \n",
      "18724                  NaN  ...       54225.446              1.2   \n",
      "18725                  NaN  ...       54225.446              1.2   \n",
      "18726                  NaN  ...       54225.446              1.2   \n",
      "18727                  NaN  ...       54225.446              1.2   \n",
      "18728                  NaN  ...       54225.446              1.2   \n",
      "18729                  0.0  ...       54225.446              1.2   \n",
      "18730                  0.0  ...       54225.446              1.2   \n",
      "18731                  0.0  ...       54225.446              1.2   \n",
      "18732                  0.0  ...       54225.446              1.2   \n",
      "\n",
      "       cardiovasc_death_rate  diabetes_prevalence  female_smokers  \\\n",
      "18723                151.089                10.79            19.1   \n",
      "18724                151.089                10.79            19.1   \n",
      "18725                151.089                10.79            19.1   \n",
      "18726                151.089                10.79            19.1   \n",
      "18727                151.089                10.79            19.1   \n",
      "18728                151.089                10.79            19.1   \n",
      "18729                151.089                10.79            19.1   \n",
      "18730                151.089                10.79            19.1   \n",
      "18731                151.089                10.79            19.1   \n",
      "18732                151.089                10.79            19.1   \n",
      "\n",
      "       male_smokers  handwashing_facilities  hospital_beds_per_thousand  \\\n",
      "18723          24.6                     NaN                        2.77   \n",
      "18724          24.6                     NaN                        2.77   \n",
      "18725          24.6                     NaN                        2.77   \n",
      "18726          24.6                     NaN                        2.77   \n",
      "18727          24.6                     NaN                        2.77   \n",
      "18728          24.6                     NaN                        2.77   \n",
      "18729          24.6                     NaN                        2.77   \n",
      "18730          24.6                     NaN                        2.77   \n",
      "18731          24.6                     NaN                        2.77   \n",
      "18732          24.6                     NaN                        2.77   \n",
      "\n",
      "       life_expectancy  human_development_index  \n",
      "18723            78.86                    0.926  \n",
      "18724            78.86                    0.926  \n",
      "18725            78.86                    0.926  \n",
      "18726            78.86                    0.926  \n",
      "18727            78.86                    0.926  \n",
      "18728            78.86                    0.926  \n",
      "18729            78.86                    0.926  \n",
      "18730            78.86                    0.926  \n",
      "18731            78.86                    0.926  \n",
      "18732            78.86                    0.926  \n",
      "\n",
      "[10 rows x 59 columns]\n"
     ]
    }
   ],
   "source": [
    "\n",
    "import os\n",
    "import delta_sharing\n",
    "\n",
    "# Point to the profile file. It can be a file on the local file system or a file on a remote storage.\n",
    "profile_file = \"./open-datasets.share\"\n",
    "#profile_file = \"https://raw.githubusercontent.com/delta-io/delta-sharing/main/examples/open-datasets.share\"\n",
    "\n",
    "# Create a SharingClient.\n",
    "client = delta_sharing.SharingClient(profile_file)\n",
    "\n",
    "# List all shared tables.\n",
    "print(\"########### All Available Tables #############\")\n",
    "print(client.list_all_tables())\n",
    "\n",
    "# Create a url to access a shared table.\n",
    "# A table path is the profile file path following with `#` and the fully qualified name of a table (`<share-name>.<schema-name>.<table-name>`).\n",
    "table_url = profile_file + \"#delta_sharing.default.owid-covid-data\"\n",
    "\n",
    "# Fetch 10 rows from a table and convert it to a Pandas DataFrame. This can be used to read sample data from a table that cannot fit in the memory.\n",
    "print(\"########### Loading 10 rows from delta_sharing.default.owid-covid-data as a Pandas DataFrame #############\")\n",
    "data = delta_sharing.load_as_pandas(table_url, limit=10)\n",
    "\n",
    "# Print the sample.\n",
    "print(\"########### Show the fetched 10 rows #############\")\n",
    "print(data)\n",
    "\n",
    "# Load a table as a Pandas DataFrame. This can be used to process tables that can fit in the memory.\n",
    "print(\"########### Loading delta_sharing.default.owid-covid-data as a Pandas DataFrame #############\")\n",
    "data = delta_sharing.load_as_pandas(table_url)\n",
    "\n",
    "# Do whatever you want to your share data!\n",
    "print(\"########### Show Data #############\")\n",
    "print(data[data[\"iso_code\"] == \"USA\"].head(10))"
   ]
  },
  {
   "cell_type": "markdown",
   "id": "0b83b210-d9f6-4cdc-a4f5-045943a0cd84",
   "metadata": {
    "tags": []
   },
   "source": [
    "## Delta Sharing Scenario | Eumar Dataset\n",
    "\n",
    "\n",
    "No Databricks compute cluster required\n",
    "\n",
    "Unity Catalog in the provider Workspace acts as the Delta Sharing Server"
   ]
  },
  {
   "cell_type": "code",
   "execution_count": 9,
   "id": "69793e3f-ee1a-49be-88b6-186609a97351",
   "metadata": {
    "tags": []
   },
   "outputs": [
    {
     "name": "stdout",
     "output_type": "stream",
     "text": [
      "##### Delta Sharing Tables ####\n",
      "[Table(name='candy_dataset', share='eumar_test_share', schema='eumar_default')]\n",
      "##### Read with Pandas Connector ####\n"
     ]
    },
    {
     "data": {
      "text/html": [
       "<div>\n",
       "<style scoped>\n",
       "    .dataframe tbody tr th:only-of-type {\n",
       "        vertical-align: middle;\n",
       "    }\n",
       "\n",
       "    .dataframe tbody tr th {\n",
       "        vertical-align: top;\n",
       "    }\n",
       "\n",
       "    .dataframe thead th {\n",
       "        text-align: right;\n",
       "    }\n",
       "</style>\n",
       "<table border=\"1\" class=\"dataframe\">\n",
       "  <thead>\n",
       "    <tr style=\"text-align: right;\">\n",
       "      <th></th>\n",
       "      <th>DATE</th>\n",
       "      <th>price</th>\n",
       "    </tr>\n",
       "  </thead>\n",
       "  <tbody>\n",
       "    <tr>\n",
       "      <th>0</th>\n",
       "      <td>1972-01-01</td>\n",
       "      <td>74.6385</td>\n",
       "    </tr>\n",
       "    <tr>\n",
       "      <th>1</th>\n",
       "      <td>1972-02-01</td>\n",
       "      <td>62.5554</td>\n",
       "    </tr>\n",
       "    <tr>\n",
       "      <th>2</th>\n",
       "      <td>1972-03-01</td>\n",
       "      <td>57.5046</td>\n",
       "    </tr>\n",
       "    <tr>\n",
       "      <th>3</th>\n",
       "      <td>1972-04-01</td>\n",
       "      <td>56.2333</td>\n",
       "    </tr>\n",
       "    <tr>\n",
       "      <th>4</th>\n",
       "      <td>1972-05-01</td>\n",
       "      <td>56.6197</td>\n",
       "    </tr>\n",
       "    <tr>\n",
       "      <th>...</th>\n",
       "      <td>...</td>\n",
       "      <td>...</td>\n",
       "    </tr>\n",
       "    <tr>\n",
       "      <th>620</th>\n",
       "      <td>2023-09-01</td>\n",
       "      <td>103.9538</td>\n",
       "    </tr>\n",
       "    <tr>\n",
       "      <th>621</th>\n",
       "      <td>2023-10-01</td>\n",
       "      <td>114.1864</td>\n",
       "    </tr>\n",
       "    <tr>\n",
       "      <th>622</th>\n",
       "      <td>2023-11-01</td>\n",
       "      <td>109.6462</td>\n",
       "    </tr>\n",
       "    <tr>\n",
       "      <th>623</th>\n",
       "      <td>2023-12-01</td>\n",
       "      <td>113.1631</td>\n",
       "    </tr>\n",
       "    <tr>\n",
       "      <th>624</th>\n",
       "      <td>2024-01-01</td>\n",
       "      <td>113.1593</td>\n",
       "    </tr>\n",
       "  </tbody>\n",
       "</table>\n",
       "<p>625 rows × 2 columns</p>\n",
       "</div>"
      ],
      "text/plain": [
       "           DATE     price\n",
       "0    1972-01-01   74.6385\n",
       "1    1972-02-01   62.5554\n",
       "2    1972-03-01   57.5046\n",
       "3    1972-04-01   56.2333\n",
       "4    1972-05-01   56.6197\n",
       "..          ...       ...\n",
       "620  2023-09-01  103.9538\n",
       "621  2023-10-01  114.1864\n",
       "622  2023-11-01  109.6462\n",
       "623  2023-12-01  113.1631\n",
       "624  2024-01-01  113.1593\n",
       "\n",
       "[625 rows x 2 columns]"
      ]
     },
     "execution_count": 9,
     "metadata": {},
     "output_type": "execute_result"
    }
   ],
   "source": [
    "# Reference: https://github.com/delta-io/delta-sharing?tab=readme-ov-file#accessing-shared-data\n",
    "### DELTA SHARING TO OPEN | No  Databricks Credentials ###\n",
    "\n",
    "import delta_sharing\n",
    "\n",
    "# Point to the profile file. It can be a file on the local file system or a file on a remote storage.\n",
    "profile_file = \"./eumar_delta_share_credential.share\"\n",
    "\n",
    "# Create a url to access a shared table.\n",
    "# A table path is the profile file path following with `#` and the fully qualified name of a table \n",
    "# (`<share-name>.<schema-name>.<table-name>`).\n",
    "table_url = profile_file + \"#eumar_test_share.eumar_default.candy_dataset\"\n",
    "\n",
    "# Create a SharingClient.\n",
    "client = delta_sharing.SharingClient(profile_file)\n",
    "\n",
    "# List all shared tables.\n",
    "print (\"##### Delta Sharing Tables ####\")\n",
    "print(client.list_all_tables())\n",
    "\n",
    "\n",
    "print (\"##### Read with Pandas Connector ####\")\n",
    "\n",
    "# Fetch 10 rows from a table and convert it to a Pandas DataFrame. This can be used to read sample data \n",
    "# from a table that cannot fit in the memory.\n",
    "#delta_sharing.load_as_pandas(table_url, limit=10)\n",
    "\n",
    "# Load a table as a Pandas DataFrame. This can be used to process tables that can fit in the memory.\n",
    "delta_sharing.load_as_pandas(table_url)\n",
    "\n",
    "# If the code is running with PySpark, you can use `load_as_spark` to load the table as a Spark DataFrame.\n",
    "#delta_sharing.load_as_spark(table_url)\n",
    "\n"
   ]
  },
  {
   "cell_type": "markdown",
   "id": "04b9a7bd-ca70-45f4-abae-9d98c4f93b8b",
   "metadata": {
    "tags": []
   },
   "source": [
    "## Databricks SDK | Accessing Volume Files\n",
    "\n",
    "No Databricks compute cluster required\n",
    "\n",
    "https://databricks-sdk-py.readthedocs.io/en/latest/dbutils.html\n",
    "\n",
    "https://databricks-sdk-py.readthedocs.io/en/latest/workspace/files/files.html\n"
   ]
  },
  {
   "cell_type": "code",
   "execution_count": null,
   "id": "d5d474c9-2250-44bd-9186-0cf7a504df28",
   "metadata": {},
   "outputs": [],
   "source": [
    "\n",
    "\n",
    "\n",
    "from databricks.sdk import WorkspaceClient\n",
    "\n",
    "# Authenticates using the credentials in .databrickscfg\n",
    "w = WorkspaceClient()\n",
    "\n",
    "VOLUME_PATH = \"/Volumes/eumar_tests/eumar_default/eumar_volume\"\n",
    "\n",
    "\n",
    "# Variables for controlling how many files to print\n",
    "max_prints = 10\n",
    "current_print = 0\n",
    "\n",
    "print (\"==== NON-DELTA SHARE ====\")\n",
    "print (f\"Print using list_directory_contents('{VOLUME_PATH}')\")\n",
    "for query in w.files.list_directory_contents(VOLUME_PATH):\n",
    "\n",
    "    print(query.as_dict())\n",
    "\n",
    "    current_print = current_print + 1\n",
    "    \n",
    "    if current_print >= max_prints:\n",
    "        break\n",
    "\n",
    "\n",
    "print (f\"Print using dbutils.fs.ls('/')\")\n",
    "dbutils = w.dbutils\n",
    "files_in_root = dbutils.fs.ls(VOLUME_PATH)\n",
    "print(f'number of files in root: {len(files_in_root)}')\n",
    "current_print = 0\n",
    "for file in files_in_root:\n",
    "\n",
    "    print(file)\n",
    "\n",
    "    current_print = current_print + 1\n",
    "    \n",
    "    if current_print >= max_prints:\n",
    "        break\n",
    "\n",
    "\n",
    "print (\"==== ACCESSING SHARED TABLE  ====\")\n",
    "\n",
    "result = w.tables.list_summaries(catalog_name=\"demo_climate_assessment_share\", schema_name_pattern=\"demo\")\n",
    "\n",
    "print (result)\n"
   ]
  },
  {
   "cell_type": "markdown",
   "id": "d4af5b8b-c232-4706-a1fe-1a8643fa0f3d",
   "metadata": {
    "tags": []
   },
   "source": [
    "## Accessing non-Delta Sharing | Databricks SQL SDK\n",
    "\n",
    "Requires Databricks SQL Cluster\n",
    "\n",
    "Works for accessing tables catalog/tables that are the product of a Delta Share.\n",
    "\n",
    "https://docs.databricks.com/en/dev-tools/python-sql-connector.html"
   ]
  },
  {
   "cell_type": "code",
   "execution_count": null,
   "id": "1fc19052-62e5-44ba-9cb6-ce7f4fbb2e10",
   "metadata": {
    "tags": []
   },
   "outputs": [],
   "source": [
    "%pip install databricks-sql-connector"
   ]
  },
  {
   "cell_type": "code",
   "execution_count": null,
   "id": "768be71a-2b0c-4eeb-8315-b7fd35254fa7",
   "metadata": {
    "tags": []
   },
   "outputs": [],
   "source": [
    "from databricks import sql\n",
    "import os\n",
    "\n",
    "connection = sql.connect(\n",
    "                        server_hostname = \"\",\n",
    "                        http_path = \"\",\n",
    "                        access_token = \"<PAT>\")\n",
    "\n",
    "cursor = connection.cursor()\n",
    "\n",
    "cursor.execute(\"SELECT * from eumar_test_share.eumar_default.candy_dataset\")\n",
    "print(cursor.fetchall())\n",
    "\n",
    "cursor.close()\n",
    "connection.close()"
   ]
  },
  {
   "cell_type": "markdown",
   "id": "a4db3e11-a4aa-4c98-9468-6a83d16e37ed",
   "metadata": {
    "jp-MarkdownHeadingCollapsed": true,
    "tags": []
   },
   "source": [
    "## Accessing non-Delta Sharing | SageMaker JDBC on Data Wrangler\n",
    "\n",
    "Requires a Databricks Compute Cluster\n",
    "\n",
    "Specific to SageMaker\n",
    "\n",
    "https://aws.amazon.com/blogs/machine-learning/prepare-data-from-databricks-for-machine-learning-using-amazon-sagemaker-data-wrangler/\n"
   ]
  },
  {
   "cell_type": "markdown",
   "id": "4920237f-a463-45d0-988a-14c2da3e37ca",
   "metadata": {
    "tags": []
   },
   "source": [
    "## Accessing non-Delta Sharing | Open Apache Hive Metastore API\n",
    "\n",
    "No Databricks compute required.\n",
    "\n",
    "- Works with AWS Athena and EMR. No SageMaker\n",
    "- Private Preview\n",
    "- Still requires access to underlying storage\n",
    "\n",
    "Private Preview: https://www.databricks.com/blog/extending-databricks-unity-catalog-open-apache-hive-metastore-api"
   ]
  },
  {
   "cell_type": "code",
   "execution_count": null,
   "id": "60ef5a59-c3ac-4c63-b0eb-0b35bfc410c8",
   "metadata": {},
   "outputs": [],
   "source": [
    "from pyspark.sql import SparkSession\n",
    "\n",
    "hive_jar_folder_location = \"\"\n",
    "your_catalog = \"\"\n",
    "databricks_host = \"\"\n",
    "\n",
    "\n",
    "spark = SparkSession.builder \\\n",
    "   .appName('PySpark Session on Local Machine') \\\n",
    "   .master('local[*]') \\\n",
    "   .config(\"spark.sql.hive.metastore.jars\", hive_jar_folder_location) \\\n",
    "   .config(\"spark.sql.catalog.spark_catalog\", \"org.apache.spark.sql.delta.catalog.DeltaCatalog\") \\\n",
    "   .config(\"spark.hadoop.hive.metastore.server.thrift.http.path\", \"/api/2.0/unity-hms-proxy/metadata\") \\\n",
    "   .config(\"spark.hadoop.hive.metastore.client.thrift.transport.mode\", \"http\") \\\n",
    "   .config(\"spark.sql.catalogImplementation\", \"hive\") \\\n",
    "   .config(\"spark.sql.hive.metastore.version\", \"3.1.2\") \\\n",
    "   .config(\"spark.hadoop.hive.metastore.client.http.additional.headers\", f\"X-Databricks-Catalog-Name={your_catalog}\") \\\n",
    "   .config(\"spark.hadoop.hive.metastore.client.auth.mode\", \"<PAT>\") \\\n",
    "   .config(\"spark.hadoop.hive.metastore.uris\", databricks_host) \\\n",
    "   .getOrCreate()\n",
    "\n",
    "spark.sql(\"select range(10)\").show()"
   ]
  }
 ],
 "metadata": {
  "availableInstances": [
   {
    "_defaultOrder": 0,
    "_isFastLaunch": true,
    "category": "General purpose",
    "gpuNum": 0,
    "hideHardwareSpecs": false,
    "memoryGiB": 4,
    "name": "ml.t3.medium",
    "vcpuNum": 2
   },
   {
    "_defaultOrder": 1,
    "_isFastLaunch": false,
    "category": "General purpose",
    "gpuNum": 0,
    "hideHardwareSpecs": false,
    "memoryGiB": 8,
    "name": "ml.t3.large",
    "vcpuNum": 2
   },
   {
    "_defaultOrder": 2,
    "_isFastLaunch": false,
    "category": "General purpose",
    "gpuNum": 0,
    "hideHardwareSpecs": false,
    "memoryGiB": 16,
    "name": "ml.t3.xlarge",
    "vcpuNum": 4
   },
   {
    "_defaultOrder": 3,
    "_isFastLaunch": false,
    "category": "General purpose",
    "gpuNum": 0,
    "hideHardwareSpecs": false,
    "memoryGiB": 32,
    "name": "ml.t3.2xlarge",
    "vcpuNum": 8
   },
   {
    "_defaultOrder": 4,
    "_isFastLaunch": true,
    "category": "General purpose",
    "gpuNum": 0,
    "hideHardwareSpecs": false,
    "memoryGiB": 8,
    "name": "ml.m5.large",
    "vcpuNum": 2
   },
   {
    "_defaultOrder": 5,
    "_isFastLaunch": false,
    "category": "General purpose",
    "gpuNum": 0,
    "hideHardwareSpecs": false,
    "memoryGiB": 16,
    "name": "ml.m5.xlarge",
    "vcpuNum": 4
   },
   {
    "_defaultOrder": 6,
    "_isFastLaunch": false,
    "category": "General purpose",
    "gpuNum": 0,
    "hideHardwareSpecs": false,
    "memoryGiB": 32,
    "name": "ml.m5.2xlarge",
    "vcpuNum": 8
   },
   {
    "_defaultOrder": 7,
    "_isFastLaunch": false,
    "category": "General purpose",
    "gpuNum": 0,
    "hideHardwareSpecs": false,
    "memoryGiB": 64,
    "name": "ml.m5.4xlarge",
    "vcpuNum": 16
   },
   {
    "_defaultOrder": 8,
    "_isFastLaunch": false,
    "category": "General purpose",
    "gpuNum": 0,
    "hideHardwareSpecs": false,
    "memoryGiB": 128,
    "name": "ml.m5.8xlarge",
    "vcpuNum": 32
   },
   {
    "_defaultOrder": 9,
    "_isFastLaunch": false,
    "category": "General purpose",
    "gpuNum": 0,
    "hideHardwareSpecs": false,
    "memoryGiB": 192,
    "name": "ml.m5.12xlarge",
    "vcpuNum": 48
   },
   {
    "_defaultOrder": 10,
    "_isFastLaunch": false,
    "category": "General purpose",
    "gpuNum": 0,
    "hideHardwareSpecs": false,
    "memoryGiB": 256,
    "name": "ml.m5.16xlarge",
    "vcpuNum": 64
   },
   {
    "_defaultOrder": 11,
    "_isFastLaunch": false,
    "category": "General purpose",
    "gpuNum": 0,
    "hideHardwareSpecs": false,
    "memoryGiB": 384,
    "name": "ml.m5.24xlarge",
    "vcpuNum": 96
   },
   {
    "_defaultOrder": 12,
    "_isFastLaunch": false,
    "category": "General purpose",
    "gpuNum": 0,
    "hideHardwareSpecs": false,
    "memoryGiB": 8,
    "name": "ml.m5d.large",
    "vcpuNum": 2
   },
   {
    "_defaultOrder": 13,
    "_isFastLaunch": false,
    "category": "General purpose",
    "gpuNum": 0,
    "hideHardwareSpecs": false,
    "memoryGiB": 16,
    "name": "ml.m5d.xlarge",
    "vcpuNum": 4
   },
   {
    "_defaultOrder": 14,
    "_isFastLaunch": false,
    "category": "General purpose",
    "gpuNum": 0,
    "hideHardwareSpecs": false,
    "memoryGiB": 32,
    "name": "ml.m5d.2xlarge",
    "vcpuNum": 8
   },
   {
    "_defaultOrder": 15,
    "_isFastLaunch": false,
    "category": "General purpose",
    "gpuNum": 0,
    "hideHardwareSpecs": false,
    "memoryGiB": 64,
    "name": "ml.m5d.4xlarge",
    "vcpuNum": 16
   },
   {
    "_defaultOrder": 16,
    "_isFastLaunch": false,
    "category": "General purpose",
    "gpuNum": 0,
    "hideHardwareSpecs": false,
    "memoryGiB": 128,
    "name": "ml.m5d.8xlarge",
    "vcpuNum": 32
   },
   {
    "_defaultOrder": 17,
    "_isFastLaunch": false,
    "category": "General purpose",
    "gpuNum": 0,
    "hideHardwareSpecs": false,
    "memoryGiB": 192,
    "name": "ml.m5d.12xlarge",
    "vcpuNum": 48
   },
   {
    "_defaultOrder": 18,
    "_isFastLaunch": false,
    "category": "General purpose",
    "gpuNum": 0,
    "hideHardwareSpecs": false,
    "memoryGiB": 256,
    "name": "ml.m5d.16xlarge",
    "vcpuNum": 64
   },
   {
    "_defaultOrder": 19,
    "_isFastLaunch": false,
    "category": "General purpose",
    "gpuNum": 0,
    "hideHardwareSpecs": false,
    "memoryGiB": 384,
    "name": "ml.m5d.24xlarge",
    "vcpuNum": 96
   },
   {
    "_defaultOrder": 20,
    "_isFastLaunch": false,
    "category": "General purpose",
    "gpuNum": 0,
    "hideHardwareSpecs": true,
    "memoryGiB": 0,
    "name": "ml.geospatial.interactive",
    "supportedImageNames": [
     "sagemaker-geospatial-v1-0"
    ],
    "vcpuNum": 0
   },
   {
    "_defaultOrder": 21,
    "_isFastLaunch": true,
    "category": "Compute optimized",
    "gpuNum": 0,
    "hideHardwareSpecs": false,
    "memoryGiB": 4,
    "name": "ml.c5.large",
    "vcpuNum": 2
   },
   {
    "_defaultOrder": 22,
    "_isFastLaunch": false,
    "category": "Compute optimized",
    "gpuNum": 0,
    "hideHardwareSpecs": false,
    "memoryGiB": 8,
    "name": "ml.c5.xlarge",
    "vcpuNum": 4
   },
   {
    "_defaultOrder": 23,
    "_isFastLaunch": false,
    "category": "Compute optimized",
    "gpuNum": 0,
    "hideHardwareSpecs": false,
    "memoryGiB": 16,
    "name": "ml.c5.2xlarge",
    "vcpuNum": 8
   },
   {
    "_defaultOrder": 24,
    "_isFastLaunch": false,
    "category": "Compute optimized",
    "gpuNum": 0,
    "hideHardwareSpecs": false,
    "memoryGiB": 32,
    "name": "ml.c5.4xlarge",
    "vcpuNum": 16
   },
   {
    "_defaultOrder": 25,
    "_isFastLaunch": false,
    "category": "Compute optimized",
    "gpuNum": 0,
    "hideHardwareSpecs": false,
    "memoryGiB": 72,
    "name": "ml.c5.9xlarge",
    "vcpuNum": 36
   },
   {
    "_defaultOrder": 26,
    "_isFastLaunch": false,
    "category": "Compute optimized",
    "gpuNum": 0,
    "hideHardwareSpecs": false,
    "memoryGiB": 96,
    "name": "ml.c5.12xlarge",
    "vcpuNum": 48
   },
   {
    "_defaultOrder": 27,
    "_isFastLaunch": false,
    "category": "Compute optimized",
    "gpuNum": 0,
    "hideHardwareSpecs": false,
    "memoryGiB": 144,
    "name": "ml.c5.18xlarge",
    "vcpuNum": 72
   },
   {
    "_defaultOrder": 28,
    "_isFastLaunch": false,
    "category": "Compute optimized",
    "gpuNum": 0,
    "hideHardwareSpecs": false,
    "memoryGiB": 192,
    "name": "ml.c5.24xlarge",
    "vcpuNum": 96
   },
   {
    "_defaultOrder": 29,
    "_isFastLaunch": true,
    "category": "Accelerated computing",
    "gpuNum": 1,
    "hideHardwareSpecs": false,
    "memoryGiB": 16,
    "name": "ml.g4dn.xlarge",
    "vcpuNum": 4
   },
   {
    "_defaultOrder": 30,
    "_isFastLaunch": false,
    "category": "Accelerated computing",
    "gpuNum": 1,
    "hideHardwareSpecs": false,
    "memoryGiB": 32,
    "name": "ml.g4dn.2xlarge",
    "vcpuNum": 8
   },
   {
    "_defaultOrder": 31,
    "_isFastLaunch": false,
    "category": "Accelerated computing",
    "gpuNum": 1,
    "hideHardwareSpecs": false,
    "memoryGiB": 64,
    "name": "ml.g4dn.4xlarge",
    "vcpuNum": 16
   },
   {
    "_defaultOrder": 32,
    "_isFastLaunch": false,
    "category": "Accelerated computing",
    "gpuNum": 1,
    "hideHardwareSpecs": false,
    "memoryGiB": 128,
    "name": "ml.g4dn.8xlarge",
    "vcpuNum": 32
   },
   {
    "_defaultOrder": 33,
    "_isFastLaunch": false,
    "category": "Accelerated computing",
    "gpuNum": 4,
    "hideHardwareSpecs": false,
    "memoryGiB": 192,
    "name": "ml.g4dn.12xlarge",
    "vcpuNum": 48
   },
   {
    "_defaultOrder": 34,
    "_isFastLaunch": false,
    "category": "Accelerated computing",
    "gpuNum": 1,
    "hideHardwareSpecs": false,
    "memoryGiB": 256,
    "name": "ml.g4dn.16xlarge",
    "vcpuNum": 64
   },
   {
    "_defaultOrder": 35,
    "_isFastLaunch": false,
    "category": "Accelerated computing",
    "gpuNum": 1,
    "hideHardwareSpecs": false,
    "memoryGiB": 61,
    "name": "ml.p3.2xlarge",
    "vcpuNum": 8
   },
   {
    "_defaultOrder": 36,
    "_isFastLaunch": false,
    "category": "Accelerated computing",
    "gpuNum": 4,
    "hideHardwareSpecs": false,
    "memoryGiB": 244,
    "name": "ml.p3.8xlarge",
    "vcpuNum": 32
   },
   {
    "_defaultOrder": 37,
    "_isFastLaunch": false,
    "category": "Accelerated computing",
    "gpuNum": 8,
    "hideHardwareSpecs": false,
    "memoryGiB": 488,
    "name": "ml.p3.16xlarge",
    "vcpuNum": 64
   },
   {
    "_defaultOrder": 38,
    "_isFastLaunch": false,
    "category": "Accelerated computing",
    "gpuNum": 8,
    "hideHardwareSpecs": false,
    "memoryGiB": 768,
    "name": "ml.p3dn.24xlarge",
    "vcpuNum": 96
   },
   {
    "_defaultOrder": 39,
    "_isFastLaunch": false,
    "category": "Memory Optimized",
    "gpuNum": 0,
    "hideHardwareSpecs": false,
    "memoryGiB": 16,
    "name": "ml.r5.large",
    "vcpuNum": 2
   },
   {
    "_defaultOrder": 40,
    "_isFastLaunch": false,
    "category": "Memory Optimized",
    "gpuNum": 0,
    "hideHardwareSpecs": false,
    "memoryGiB": 32,
    "name": "ml.r5.xlarge",
    "vcpuNum": 4
   },
   {
    "_defaultOrder": 41,
    "_isFastLaunch": false,
    "category": "Memory Optimized",
    "gpuNum": 0,
    "hideHardwareSpecs": false,
    "memoryGiB": 64,
    "name": "ml.r5.2xlarge",
    "vcpuNum": 8
   },
   {
    "_defaultOrder": 42,
    "_isFastLaunch": false,
    "category": "Memory Optimized",
    "gpuNum": 0,
    "hideHardwareSpecs": false,
    "memoryGiB": 128,
    "name": "ml.r5.4xlarge",
    "vcpuNum": 16
   },
   {
    "_defaultOrder": 43,
    "_isFastLaunch": false,
    "category": "Memory Optimized",
    "gpuNum": 0,
    "hideHardwareSpecs": false,
    "memoryGiB": 256,
    "name": "ml.r5.8xlarge",
    "vcpuNum": 32
   },
   {
    "_defaultOrder": 44,
    "_isFastLaunch": false,
    "category": "Memory Optimized",
    "gpuNum": 0,
    "hideHardwareSpecs": false,
    "memoryGiB": 384,
    "name": "ml.r5.12xlarge",
    "vcpuNum": 48
   },
   {
    "_defaultOrder": 45,
    "_isFastLaunch": false,
    "category": "Memory Optimized",
    "gpuNum": 0,
    "hideHardwareSpecs": false,
    "memoryGiB": 512,
    "name": "ml.r5.16xlarge",
    "vcpuNum": 64
   },
   {
    "_defaultOrder": 46,
    "_isFastLaunch": false,
    "category": "Memory Optimized",
    "gpuNum": 0,
    "hideHardwareSpecs": false,
    "memoryGiB": 768,
    "name": "ml.r5.24xlarge",
    "vcpuNum": 96
   },
   {
    "_defaultOrder": 47,
    "_isFastLaunch": false,
    "category": "Accelerated computing",
    "gpuNum": 1,
    "hideHardwareSpecs": false,
    "memoryGiB": 16,
    "name": "ml.g5.xlarge",
    "vcpuNum": 4
   },
   {
    "_defaultOrder": 48,
    "_isFastLaunch": false,
    "category": "Accelerated computing",
    "gpuNum": 1,
    "hideHardwareSpecs": false,
    "memoryGiB": 32,
    "name": "ml.g5.2xlarge",
    "vcpuNum": 8
   },
   {
    "_defaultOrder": 49,
    "_isFastLaunch": false,
    "category": "Accelerated computing",
    "gpuNum": 1,
    "hideHardwareSpecs": false,
    "memoryGiB": 64,
    "name": "ml.g5.4xlarge",
    "vcpuNum": 16
   },
   {
    "_defaultOrder": 50,
    "_isFastLaunch": false,
    "category": "Accelerated computing",
    "gpuNum": 1,
    "hideHardwareSpecs": false,
    "memoryGiB": 128,
    "name": "ml.g5.8xlarge",
    "vcpuNum": 32
   },
   {
    "_defaultOrder": 51,
    "_isFastLaunch": false,
    "category": "Accelerated computing",
    "gpuNum": 1,
    "hideHardwareSpecs": false,
    "memoryGiB": 256,
    "name": "ml.g5.16xlarge",
    "vcpuNum": 64
   },
   {
    "_defaultOrder": 52,
    "_isFastLaunch": false,
    "category": "Accelerated computing",
    "gpuNum": 4,
    "hideHardwareSpecs": false,
    "memoryGiB": 192,
    "name": "ml.g5.12xlarge",
    "vcpuNum": 48
   },
   {
    "_defaultOrder": 53,
    "_isFastLaunch": false,
    "category": "Accelerated computing",
    "gpuNum": 4,
    "hideHardwareSpecs": false,
    "memoryGiB": 384,
    "name": "ml.g5.24xlarge",
    "vcpuNum": 96
   },
   {
    "_defaultOrder": 54,
    "_isFastLaunch": false,
    "category": "Accelerated computing",
    "gpuNum": 8,
    "hideHardwareSpecs": false,
    "memoryGiB": 768,
    "name": "ml.g5.48xlarge",
    "vcpuNum": 192
   },
   {
    "_defaultOrder": 55,
    "_isFastLaunch": false,
    "category": "Accelerated computing",
    "gpuNum": 8,
    "hideHardwareSpecs": false,
    "memoryGiB": 1152,
    "name": "ml.p4d.24xlarge",
    "vcpuNum": 96
   },
   {
    "_defaultOrder": 56,
    "_isFastLaunch": false,
    "category": "Accelerated computing",
    "gpuNum": 8,
    "hideHardwareSpecs": false,
    "memoryGiB": 1152,
    "name": "ml.p4de.24xlarge",
    "vcpuNum": 96
   },
   {
    "_defaultOrder": 57,
    "_isFastLaunch": false,
    "category": "Accelerated computing",
    "gpuNum": 0,
    "hideHardwareSpecs": false,
    "memoryGiB": 32,
    "name": "ml.trn1.2xlarge",
    "vcpuNum": 8
   },
   {
    "_defaultOrder": 58,
    "_isFastLaunch": false,
    "category": "Accelerated computing",
    "gpuNum": 0,
    "hideHardwareSpecs": false,
    "memoryGiB": 512,
    "name": "ml.trn1.32xlarge",
    "vcpuNum": 128
   },
   {
    "_defaultOrder": 59,
    "_isFastLaunch": false,
    "category": "Accelerated computing",
    "gpuNum": 0,
    "hideHardwareSpecs": false,
    "memoryGiB": 512,
    "name": "ml.trn1n.32xlarge",
    "vcpuNum": 128
   }
  ],
  "instance_type": "ml.t3.medium",
  "kernelspec": {
   "display_name": "Python 3 (Data Science 3.0)",
   "language": "python",
   "name": "python3__SAGEMAKER_INTERNAL__arn:aws:sagemaker:us-east-1:081325390199:image/sagemaker-data-science-310-v1"
  },
  "language_info": {
   "codemirror_mode": {
    "name": "ipython",
    "version": 3
   },
   "file_extension": ".py",
   "mimetype": "text/x-python",
   "name": "python",
   "nbconvert_exporter": "python",
   "pygments_lexer": "ipython3",
   "version": "3.10.6"
  }
 },
 "nbformat": 4,
 "nbformat_minor": 5
}
